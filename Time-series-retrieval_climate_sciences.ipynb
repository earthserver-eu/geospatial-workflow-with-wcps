{
 "cells": [
  {
   "cell_type": "markdown",
   "metadata": {},
   "source": [
    "<img style=\"float: right;\" src=\"./img/es2_logo_tiny.jpg\"></img>"
   ]
  },
  {
   "cell_type": "markdown",
   "metadata": {
    "collapsed": true
   },
   "source": [
    "<h1 align=\"center\">Time-series retrieval - Climate Sciences</h1>\n",
    "<h3 align=\"center\">Example of creating a climate graph of Brussels</h3>\n",
    "<hr>"
   ]
  },
  {
   "cell_type": "markdown",
   "metadata": {},
   "source": [
    "<a href=\"./Point-extract_example_marine_sciences.ipynb\"><< 02-Single-point extraction - Marine Sciences </a>&nbsp;<space>&nbsp;<space>&nbsp;<space>&nbsp;<space>&nbsp;<space>&nbsp;<space>&nbsp;<space>&nbsp;<space>&nbsp;<space>&nbsp;<space> <a href=\"./Monthly-averages_climate_sciences.ipynb\">04-Glocal monthly anomalies - Climate Sciences >></a>"
   ]
  },
  {
   "cell_type": "markdown",
   "metadata": {},
   "source": [
    "### Background"
   ]
  },
  {
   "cell_type": "markdown",
   "metadata": {},
   "source": [
    "The fast and efficient extraction of time-series information from a three-dimensional data cube is challenging. If the data is provided with the help of a web service, every data layer from the cube has to be accessed in order to retrieve the required information. Traditional data access systems would even require the download of multiple 2D data sets.\n",
    "Access of multiple two-dimensional layers is costly in terms of efficiency. Most WebAPI's are very efficient in the retrieval of geographical subsets but are only suboptimal for time-series retrieval.\n",
    "\n",
    "<br>\n",
    "\n",
    "<img style=\"float: center; width: 70%; height:70%\" src=\"./img/single_point_extraction_small.png\"></img>\n"
   ]
  },
  {
   "cell_type": "markdown",
   "metadata": {},
   "source": [
    "### Addressed community"
   ]
  },
  {
   "cell_type": "markdown",
   "metadata": {},
   "source": [
    "* of interest across all Earth Science domains"
   ]
  },
  {
   "cell_type": "markdown",
   "metadata": {},
   "source": [
    "### Benefits"
   ]
  },
  {
   "cell_type": "markdown",
   "metadata": {},
   "source": [
    "Web Coverage Service 2.0 with its processing extension Web Coverage Processing Service (WCPS) offers an efficient retrieval of time-series data without data download."
   ]
  },
  {
   "cell_type": "markdown",
   "metadata": {},
   "source": [
    "<hr>"
   ]
  },
  {
   "cell_type": "markdown",
   "metadata": {},
   "source": [
    "## EXAMPLE: Creating a climate graph of Brussels"
   ]
  },
  {
   "cell_type": "markdown",
   "metadata": {},
   "source": [
    "### Description"
   ]
  },
  {
   "cell_type": "markdown",
   "metadata": {},
   "source": [
    "A climate graph is commonly used to describe the average weather of one specific location. A climate graph contains: \n",
    "* the <b>average, minimum and maximum temperature</b> of every month and \n",
    "* the <b>average precipitation</b> of every month.\n"
   ]
  },
  {
   "cell_type": "markdown",
   "metadata": {},
   "source": [
    "<h3>Data required</h3>\n",
    "<div class=\"alert alert-info\">\n",
    "<ul type=\"square\">\n",
    "<li><a href=\"http://www.ecmwf.int/en/research/climate-reanalysis/era-interim\">ERA-Interim reanalysis</a> -  2m air temperature and total precipitation from 1 January 1979 to 31 December 2014</li>\n",
    "<li><b>Format:</b> GRIB</li>\n",
    "<li><b>Spatial resolution:</b> Lat/Lon grid, 0.5 x 0.5 degrees, 720 x 361 gridpoints</li>\n",
    "<li><b>Temporal resolution:</b> 6-hourly</li>\n",
    "<li><b>Data volume:</b> 27 GB per parameter</li>\n",
    "</ul>\n",
    "</div>"
   ]
  },
  {
   "cell_type": "markdown",
   "metadata": {},
   "source": [
    "<h3> Workflow </h3>\n",
    "<div class=\"alert alert-success\">\n",
    "<ul type=\"square\">\n",
    "<li>(1) Retrieve monthly mean, min and max 2m air temperature from Jan 1979 to Dec 2014</li>\n",
    "<li>(2) Retrieve monthly sums of total precipitation from Jan 1979 to Dec 2014</li>\n",
    "<li>(3) Calculate averages for every month for every parameter</li>\n",
    "<li>(4) Plot the climate graph</li>\n",
    "</ul>\n",
    "</div>\n"
   ]
  },
  {
   "cell_type": "markdown",
   "metadata": {},
   "source": [
    "### Alternative "
   ]
  },
  {
   "cell_type": "markdown",
   "metadata": {},
   "source": [
    "The alternative to the retrieval of the time-series via a Web Coverage Service would be to access the data via the MARS WebAPI. This however would require the download, storage and extensive processing of two parameters, both of a volume of several GBs.\n",
    "\n",
    "<hr>"
   ]
  },
  {
   "cell_type": "markdown",
   "metadata": {},
   "source": [
    "#### Load required libraries"
   ]
  },
  {
   "cell_type": "code",
   "execution_count": 1,
   "metadata": {
    "collapsed": false
   },
   "outputs": [],
   "source": [
    "%matplotlib inline\n",
    "import requests\n",
    "import numpy as np\n",
    "import os\n",
    "import matplotlib.pyplot as plt\n",
    "from datetime import datetime, timedelta\n",
    "from dateutil.relativedelta import relativedelta\n",
    "import collections"
   ]
  },
  {
   "cell_type": "markdown",
   "metadata": {},
   "source": [
    "<b>Define the WCPS query</b>\n",
    "\n",
    "With one WCPS request, \n",
    "* the data can be converted into a different unit, e.g. from Kelvin to degree Celsius, and \n",
    "* a mathematical condenser, e.g. average, minimum or maximum, can be applied to the data values retrieved"
   ]
  },
  {
   "cell_type": "code",
   "execution_count": 70,
   "metadata": {
    "collapsed": true
   },
   "outputs": [],
   "source": [
    "# WCPS query format for 2m air temperature (conversion of Kelvin to degree Celsius)\n",
    "url_fmt_temp = 'http://earthserver.ecmwf.int/rasdaman/ows?service=WCS&version=2.0.1' \\\n",
    "          '&request=ProcessCoverages' \\\n",
    "          '&query=for c in (%s) return encode(%s(c[Lat(%d:%d), Long(%d:%d),ansi(\"%s\":\"%s\")] - 273.15), \"csv\")'\n",
    "\n",
    "# WCPS query format for total precipitation (conversion from m of water to mm of water)\n",
    "url_fmt_precip = 'http://earthserver.ecmwf.int/rasdaman/ows?service=WCS&version=2.0.1' \\\n",
    "          '&request=ProcessCoverages' \\\n",
    "          '&query=for c in (%s) return encode(%s(c[Lat(%d:%d), Long(%d:%d),ansi(\"%s\":\"%s\")] * 1000), \"csv\")'"
   ]
  },
  {
   "cell_type": "markdown",
   "metadata": {},
   "source": [
    "#### Helper functions"
   ]
  },
  {
   "cell_type": "code",
   "execution_count": 71,
   "metadata": {
    "collapsed": false
   },
   "outputs": [],
   "source": [
    "# A list for every first day in the month from Jan 1979 to Dec 2014\n",
    "startDateList = (range(432))\n",
    "x =datetime(1979,1,1,0)\n",
    "for i in range(0,len(startDateList)):\n",
    "    startDateList[i]=x\n",
    "    x=(x.replace(day=1)+timedelta(days=31)).replace(day=1)\n",
    "\n",
    "# A list with every last day of the month from Jan 1979 to Dec 2014\n",
    "endDateList = (range(432))\n",
    "for i in range(0, len(endDateList)):\n",
    "    y = startDateList[i].replace(hour=18) + relativedelta(day=31)\n",
    "    endDateList[i]=y\n",
    "\n",
    "startDateListISO=(range(432))\n",
    "for i in range(0,len(startDateListISO)):\n",
    "    startDateListISO[i]=startDateList[i].date().isoformat()"
   ]
  },
  {
   "cell_type": "markdown",
   "metadata": {},
   "source": [
    "#### Function to retrieve data from the Web Coverage Service"
   ]
  },
  {
   "cell_type": "code",
   "execution_count": 75,
   "metadata": {
    "collapsed": false
   },
   "outputs": [],
   "source": [
    "# Function that retrieves for every month all data values from the WCS server and appends the outputs to a python list\n",
    "def retrieveFromWCS(param, operation, latMin, latMax, lonMin, lonMax):\n",
    "    if param==\"precipitation\":\n",
    "        startDateList[0]=startDateList[0] + timedelta(days=1)\n",
    "        query = url_fmt_precip\n",
    "    else:\n",
    "        query = url_fmt_temp\n",
    "    monthlyTS = []\n",
    "    for i,j in zip(startDateList,endDateList):\n",
    "        url = query % (param, operation, latMin,latMax,lonMin,lonMax,i.isoformat(),j.isoformat())\n",
    "        r= requests.get(url,\n",
    "                proxies={'http':None}\n",
    "                )\n",
    "\n",
    "        r.raise_for_status()\n",
    "        y= [float(a) for a in r.text[1:-1].split(\",\")]\n",
    "        monthlyTS.append(y[0])\n",
    "    return monthlyTS"
   ]
  },
  {
   "cell_type": "markdown",
   "metadata": {},
   "source": [
    "#### (1) Retrieve average, minimum and maximum surface temperature for Brussels for every month"
   ]
  },
  {
   "cell_type": "code",
   "execution_count": 42,
   "metadata": {
    "collapsed": false
   },
   "outputs": [],
   "source": [
    "latMin = 50.52\n",
    "latMax = 50.52\n",
    "lonMin = -4.22\n",
    "lonMax = -4.22\n",
    "monthlyTS_avg = retrieveFromWCS(\"temp2m\", \"avg\", latMin, latMax, lonMin, lonMax)\n",
    "monthlyTS_max = retrieveFromWCS(\"temp2m\", \"max\", latMin, latMax, lonMin, lonMax)\n",
    "monthlyTS_min = retrieveFromWCS(\"temp2m\", \"min\", latMin, latMax, lonMin, lonMax)"
   ]
  },
  {
   "cell_type": "markdown",
   "metadata": {},
   "source": [
    "#### (2) Retrieve monthly sums of total precipitation for Brussels for every month"
   ]
  },
  {
   "cell_type": "code",
   "execution_count": 76,
   "metadata": {
    "collapsed": false
   },
   "outputs": [],
   "source": [
    "latMin = 50.52\n",
    "latMax = 50.52\n",
    "lonMin = -4.22\n",
    "lonMax = -4.22\n",
    "monthlyTS_sum = retrieveFromWCS(\"precipitation\", \"add\", latMin, latMax, lonMin, lonMax)"
   ]
  },
  {
   "cell_type": "markdown",
   "metadata": {},
   "source": [
    "#### (3) Calculate averages for every month for every parameter"
   ]
  },
  {
   "cell_type": "code",
   "execution_count": 90,
   "metadata": {
    "collapsed": false
   },
   "outputs": [],
   "source": [
    "def calculateMonthlyAvgTS (inputArray):\n",
    "    tmp = np.empty((12))\n",
    "    for i in range(0,12):\n",
    "        month = inputArray[i::12]\n",
    "        tmp[i] = np.mean(month, axis=0)\n",
    "    return tmp\n",
    "\n",
    "monthsAvg = calculateMonthlyAvgTS(monthlyTS_avg)\n",
    "monthsMax = calculateMonthlyAvgTS(monthlyTS_max)\n",
    "monthsMin = calculateMonthlyAvgTS(monthlyTS_min)\n",
    "monthsAvg_precip = calculateMonthlyAvgTS(monthlyTS_sum)"
   ]
  },
  {
   "cell_type": "markdown",
   "metadata": {},
   "source": [
    "#### (4) Plot the climate graph for Brussels"
   ]
  },
  {
   "cell_type": "code",
   "execution_count": 285,
   "metadata": {
    "collapsed": false
   },
   "outputs": [
    {
     "data": {
      "image/png": "[encoded data removed]",
      "text/plain": [
       "<matplotlib.figure.Figure at 0x7f990fbc7650>"
      ]
     },
     "metadata": {},
     "output_type": "display_data"
    }
   ],
   "source": [
    "from ggplot import *\n",
    "import pandas\n",
    "import matplotlib.pyplot as plt\n",
    "\n",
    "months = ['Jan','Feb','Mar','Apr','May','Jun','Jul','Aug','Sep','Oct','Nov','Dec']\n",
    "columns = [\"temp_avg\", \"temp_max\", \"temp_min\"]\n",
    "\n",
    "df = pandas.DataFrame(months, columns=['Month'])\n",
    "df['temp_avg'] = pandas.Series(monthsAvg, index=df.index)\n",
    "df['temp_max'] = pandas.Series(monthsMax, index=df.index)\n",
    "df['temp_min'] = pandas.Series(monthsMin, index=df.index)\n",
    "df['precip_avg'] =pandas.Series(monthsAvg_precip, index=df.index)\n",
    "\n",
    "ax1 = df[['Month','precip_avg']].plot(x='Month',kind='bar',color='#D3D3D3', legend=False, \\\n",
    "                                     figsize=(12,9), fontsize=12)\n",
    "\n",
    "ax2 = ax1.twinx()\n",
    "df[['Month', 'temp_avg']].plot(x='Month',linestyle='-',marker='o', ax=ax2,color='black', legend=False)\n",
    "df[['Month', 'temp_max']].plot(x='Month', linestyle='-',marker='o',ax=ax2,color='darkred',legend=False)\n",
    "df[['Month', 'temp_min']].plot(x='Month', linestyle='-',marker='o',ax=ax2,color='darkblue', legend=False)\n",
    "\n",
    "ax1.yaxis.tick_right()\n",
    "ax2.yaxis.tick_left()\n",
    "\n",
    "ax1.set_title(\"Climate graph for Brussels\", fontsize=20)\n",
    "ax1.set_xlabel(\"Month\", fontsize=14)\n",
    "ax2.set_ylabel(\"mm\", labelpad=35, y=0.45, fontsize=14)\n",
    "ax1.set_ylabel(\"degC\", labelpad=35, y=0.45,fontsize=14)\n",
    "\n",
    "plt.tick_params(axis='both', which='major', labelsize=14)\n",
    "ax1.tick_params(axis='both', which='major', labelsize=14)\n",
    "\n",
    "plt.show()"
   ]
  },
  {
   "cell_type": "markdown",
   "metadata": {},
   "source": [
    "<hr>"
   ]
  },
  {
   "cell_type": "markdown",
   "metadata": {},
   "source": [
    "<a rel=\"license\" href=\"http://creativecommons.org/licenses/by/4.0/\"><img style=\"float: right\" alt=\"Creative Commons Lizenzvertrag\" style=\"border-width:0\" src=\"https://i.creativecommons.org/l/by/4.0/88x31.png\" /></a>"
   ]
  }
 ],
 "metadata": {
  "kernelspec": {
   "display_name": "Python 2",
   "language": "python",
   "name": "python2"
  },
  "language_info": {
   "codemirror_mode": {
    "name": "ipython",
    "version": 2
   },
   "file_extension": ".py",
   "mimetype": "text/x-python",
   "name": "python",
   "nbconvert_exporter": "python",
   "pygments_lexer": "ipython2",
   "version": "2.7.8"
  }
 },
 "nbformat": 4,
 "nbformat_minor": 0
}
